{
 "cells": [
  {
   "cell_type": "code",
   "execution_count": null,
   "id": "cd77974f",
   "metadata": {},
   "outputs": [],
   "source": [
    "from pyspark.sql.functions import to_date, col\n",
    "from pyspark.sql.types import TimestampType"
   ]
  },
  {
   "cell_type": "code",
   "execution_count": null,
   "id": "957f895f",
   "metadata": {},
   "outputs": [],
   "source": [
    "# df now is a Spark DataFrame containing JSON data\n",
    "df = spark.read.option(\"multiline\", \"true\").json(f\"Files/{start_date}_earthquake_data.json\")"
   ]
  },
  {
   "cell_type": "code",
   "execution_count": null,
   "id": "e8f2f6c3",
   "metadata": {},
   "outputs": [],
   "source": [
    "# Reshape earthquake data by extracting and renaming key attributes for further analysis.\n",
    "df = \\\n",
    "df.\\\n",
    "    select(\n",
    "        'id',\n",
    "        col('geometry.coordinates').getItem(0).alias('longitude'),\n",
    "        col('geometry.coordinates').getItem(1).alias('latitude'),\n",
    "        col('geometry.coordinates').getItem(2).alias('elevation'),\n",
    "        col('properties.title').alias('title'),\n",
    "        col('properties.place').alias('place_description'),\n",
    "        col('properties.sig').alias('sig'),\n",
    "        col('properties.mag').alias('mag'),\n",
    "        col('properties.magType').alias('magType'),\n",
    "        col('properties.time').alias('time'),\n",
    "        col('properties.updated').alias('updated')\n",
    "        )"
   ]
  },
  {
   "cell_type": "code",
   "execution_count": null,
   "id": "17d7219f",
   "metadata": {},
   "outputs": [],
   "source": [
    "# Convert 'time' and 'updated' columns from milliseconds to timestamp format for clearer datetime representation.\n",
    "df = df.\\\n",
    "    withColumn('time', col('time')/1000).\\\n",
    "    withColumn('updated', col('updated')/1000).\\\n",
    "    withColumn('time', col('time').cast(TimestampType())).\\\n",
    "    withColumn('updated', col('updated').cast(TimestampType()))"
   ]
  },
  {
   "cell_type": "code",
   "execution_count": null,
   "id": "24541784",
   "metadata": {},
   "outputs": [],
   "source": [
    "# Convert 'time' and 'updated' columns from milliseconds to timestamp format for clearer datetime representation.\n",
    "df = df.\\\n",
    "    withColumn('date', to_date(col('time'))).\\\n",
    "    withColumn('date', col('date').cast(TimestampType()))"
   ]
  },
  {
   "cell_type": "code",
   "execution_count": null,
   "id": "05461ad8",
   "metadata": {},
   "outputs": [],
   "source": [
    "# appending the data to the gold table\n",
    "df.write.mode('append').saveAsTable('earthquake_silver_data')"
   ]
  }
 ],
 "metadata": {
  "kernelspec": {
   "display_name": "Python 3",
   "language": "python",
   "name": "python3"
  },
  "language_info": {
   "name": "python",
   "version": "3.13.3"
  }
 },
 "nbformat": 4,
 "nbformat_minor": 5
}
