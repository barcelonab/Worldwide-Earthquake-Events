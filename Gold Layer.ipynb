{
 "cells": [
  {
   "cell_type": "code",
   "execution_count": null,
   "id": "2af253fd",
   "metadata": {},
   "outputs": [],
   "source": [
    "from pyspark.sql.functions import when, col, udf\n",
    "from pyspark.sql.types import StringType\n",
    "# ensure the below library is installed on your fabric environment\n",
    "import reverse_geocoder as rg"
   ]
  },
  {
   "cell_type": "code",
   "execution_count": null,
   "id": "56900ce8",
   "metadata": {},
   "outputs": [],
   "source": [
    "# Get Data from the table earthquake_silver_data from lakehouse\n",
    "df = spark.read.table(\"earthquake_silver_data\").filter(col('time') > start_date)"
   ]
  },
  {
   "cell_type": "code",
   "execution_count": null,
   "id": "f998f08e",
   "metadata": {},
   "outputs": [],
   "source": [
    "# Creating function to get the specific location according to latitude and longitude\n",
    "def get_country_code(lat, lon):\n",
    "    \"\"\"\n",
    "    Retrieve the country code for a given latitude and longitude.\n",
    "\n",
    "    Parameters:\n",
    "    lat (float or str): Latitude of the location.\n",
    "    lon (float or str): Longitude of the location.\n",
    "\n",
    "    Returns:\n",
    "    str: Country code of the location, retrieved using the reverse geocoding API.\n",
    "\n",
    "    Example:\n",
    "    >>> get_country_details(48.8588443, 2.2943506)\n",
    "    'FR'\n",
    "    \"\"\"\n",
    "    coordinates = (float(lat), float(lon))\n",
    "    return rg.search(coordinates)[0].get('cc')"
   ]
  },
  {
   "cell_type": "code",
   "execution_count": null,
   "id": "8c9be004",
   "metadata": {},
   "outputs": [],
   "source": [
    "# registering the udfs so they can be used on spark dataframes\n",
    "get_country_code_udf = udf(get_country_code, StringType())"
   ]
  },
  {
   "cell_type": "code",
   "execution_count": null,
   "id": "25d5d5ef",
   "metadata": {},
   "outputs": [],
   "source": [
    "# adding country_code and city attributes\n",
    "df_with_location = \\\n",
    "                df.\\\n",
    "                    withColumn(\"country_code\", get_country_code_udf(col(\"latitude\"), col(\"longitude\")))"
   ]
  },
  {
   "cell_type": "code",
   "execution_count": null,
   "id": "5fe3ee10",
   "metadata": {},
   "outputs": [],
   "source": [
    "# adding significance classification\n",
    "df_with_location_sig_class = \\\n",
    "                            df_with_location.\\\n",
    "                                withColumn('sig_class', \n",
    "                                            when(col(\"sig\") < 100, \"Low\").\\\n",
    "                                            when((col(\"sig\") >= 100) & (col(\"sig\") < 500), \"Moderate\").\\\n",
    "                                            otherwise(\"High\")\n",
    "                                            )"
   ]
  },
  {
   "cell_type": "code",
   "execution_count": null,
   "id": "d5de6fe2",
   "metadata": {},
   "outputs": [],
   "source": [
    "# appending the data to the gold table\n",
    "df_with_location_sig_class.write.mode('append').saveAsTable('earthquake_gold_layer')"
   ]
  }
 ],
 "metadata": {
  "kernelspec": {
   "display_name": "Python 3",
   "language": "python",
   "name": "python3"
  },
  "language_info": {
   "name": "python",
   "version": "3.13.3"
  }
 },
 "nbformat": 4,
 "nbformat_minor": 5
}
